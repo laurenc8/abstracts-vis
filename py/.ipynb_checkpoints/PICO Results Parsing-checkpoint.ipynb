{
 "cells": [
  {
   "cell_type": "code",
   "execution_count": 1,
   "id": "faced-possession",
   "metadata": {},
   "outputs": [],
   "source": [
    "import spacy\n",
    "from spacy import displacy\n",
    "import os"
   ]
  },
  {
   "cell_type": "code",
   "execution_count": 2,
   "id": "controversial-shore",
   "metadata": {},
   "outputs": [],
   "source": [
    "nlp = spacy.load(\"en_core_web_sm\")"
   ]
  },
  {
   "cell_type": "code",
   "execution_count": 3,
   "id": "collective-talent",
   "metadata": {},
   "outputs": [],
   "source": [
    "f = open('../../PubMed-PICO-Detection/structured_abstracts_PICO.txt','r')"
   ]
  },
  {
   "cell_type": "code",
   "execution_count": 4,
   "id": "suburban-conservation",
   "metadata": {},
   "outputs": [],
   "source": [
    "sentences = []\n",
    "for line in f:\n",
    "    if line.startswith(\"PARTICIPANTS\"):\n",
    "        sentence = line.split('|')[2]\n",
    "        sentences.append(sentence)"
   ]
  },
  {
   "cell_type": "code",
   "execution_count": 5,
   "id": "ignored-monroe",
   "metadata": {},
   "outputs": [
    {
     "data": {
      "text/plain": [
       "'136 nursing students (intervention group: n=63, control group: n=73) were included in the study.\\n'"
      ]
     },
     "execution_count": 5,
     "metadata": {},
     "output_type": "execute_result"
    }
   ],
   "source": [
    "sentences[1]"
   ]
  },
  {
   "cell_type": "code",
   "execution_count": 6,
   "id": "gorgeous-intermediate",
   "metadata": {},
   "outputs": [
    {
     "data": {
      "text/plain": [
       "'The study comprised smokers (n=484), 59.5% of whom were men with a mean age of 50.67years and a smoking history of 37.5 pack-years.\\n'"
      ]
     },
     "execution_count": 6,
     "metadata": {},
     "output_type": "execute_result"
    }
   ],
   "source": [
    "sentences[2]"
   ]
  },
  {
   "cell_type": "code",
   "execution_count": 7,
   "id": "dedicated-mirror",
   "metadata": {},
   "outputs": [
    {
     "data": {
      "text/plain": [
       "'nominal subject (passive)'"
      ]
     },
     "execution_count": 7,
     "metadata": {},
     "output_type": "execute_result"
    }
   ],
   "source": [
    "spacy.explain('nsubjpass')"
   ]
  },
  {
   "cell_type": "code",
   "execution_count": 11,
   "id": "remarkable-chile",
   "metadata": {},
   "outputs": [],
   "source": [
    "subs = []\n",
    "roots = []\n",
    "for sentence in sentences:\n",
    "    t = nlp(sentence)\n",
    "    sub = None\n",
    "    root = None\n",
    "    for tok in t:\n",
    "        if tok.dep_ == 'ROOT':\n",
    "            root = str(tok)\n",
    "        if tok.dep_ == 'nsubj' or tok.dep_ == 'nsubjpass':\n",
    "            sub = str(tok)\n",
    "    subAdj = []\n",
    "    rootAdj = []\n",
    "    \n",
    "    for tok in t:\n",
    "        if str(tok.head) == sub:\n",
    "            subAdj.append(str(tok))\n",
    "        if str(tok.head) == root:\n",
    "            rootAdj.append(str(tok))\n",
    "    subs.append((sub, subAdj))\n",
    "    roots.append((root, rootAdj))"
   ]
  },
  {
   "cell_type": "code",
   "execution_count": 15,
   "id": "funded-carol",
   "metadata": {},
   "outputs": [
    {
     "data": {
      "text/plain": [
       "((None, []),\n",
       " ('anaesthesiologists', ['consultant', 'anaesthesiologists', '.']),\n",
       " 'Fifty-five consultant anaesthesiologists.\\n')"
      ]
     },
     "execution_count": 15,
     "metadata": {},
     "output_type": "execute_result"
    }
   ],
   "source": [
    "subs[5], roots[5], sentences[5]"
   ]
  },
  {
   "cell_type": "code",
   "execution_count": 16,
   "id": "accessory-cholesterol",
   "metadata": {},
   "outputs": [],
   "source": [
    "import pickle"
   ]
  },
  {
   "cell_type": "code",
   "execution_count": 17,
   "id": "fleet-coordinator",
   "metadata": {},
   "outputs": [],
   "source": [
    "pickle.dump((sentences, subs, roots), open( \"save.p\", \"wb\" ) )"
   ]
  },
  {
   "cell_type": "code",
   "execution_count": null,
   "id": "living-suspension",
   "metadata": {},
   "outputs": [],
   "source": []
  }
 ],
 "metadata": {
  "kernelspec": {
   "display_name": "Python [conda env:cs271]",
   "language": "python",
   "name": "conda-env-cs271-py"
  },
  "language_info": {
   "codemirror_mode": {
    "name": "ipython",
    "version": 3
   },
   "file_extension": ".py",
   "mimetype": "text/x-python",
   "name": "python",
   "nbconvert_exporter": "python",
   "pygments_lexer": "ipython3",
   "version": "3.7.13"
  }
 },
 "nbformat": 4,
 "nbformat_minor": 5
}
